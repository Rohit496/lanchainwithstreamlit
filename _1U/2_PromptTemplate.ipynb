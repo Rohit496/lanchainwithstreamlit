{
 "cells": [
  {
   "cell_type": "code",
   "execution_count": 1,
   "id": "160c7284",
   "metadata": {},
   "outputs": [
    {
     "data": {
      "text/plain": [
       "True"
      ]
     },
     "execution_count": 1,
     "metadata": {},
     "output_type": "execute_result"
    }
   ],
   "source": [
    "from dotenv import load_dotenv\n",
    "\n",
    "load_dotenv()"
   ]
  },
  {
   "cell_type": "markdown",
   "id": "dcf08207",
   "metadata": {},
   "source": [
    "## Langchain Messages"
   ]
  },
  {
   "cell_type": "code",
   "execution_count": 4,
   "id": "ef96a2ff",
   "metadata": {},
   "outputs": [
    {
     "name": "stdout",
     "output_type": "stream",
     "text": [
      "The capital of France is Paris.\n"
     ]
    }
   ],
   "source": [
    "from langchain_core.messages import HumanMessage, SystemMessage\n",
    "from langchain_ollama import ChatOllama\n",
    "\n",
    "base_url = \"http://localhost:11434/\"\n",
    "model = \"llama3.2:latest\"\n",
    "\n",
    "llm = ChatOllama(base_url=base_url, model=model, temperature=0.8, num_predict=256)\n",
    "\n",
    "question=HumanMessage(content=\"What is the capital of France?\")\n",
    "system=SystemMessage(content=\"You are a helpful assistant.\")\n",
    "response = llm.invoke([system, question])\n",
    "print(response.content)\n"
   ]
  },
  {
   "cell_type": "code",
   "execution_count": 5,
   "id": "f0d278b4",
   "metadata": {},
   "outputs": [],
   "source": [
    "from langchain_core.prompts import (\n",
    "    SystemMessagePromptTemplate,\n",
    "    HumanMessagePromptTemplate,\n",
    "    PromptTemplate,\n",
    "    ChatPromptTemplate,\n",
    ")"
   ]
  },
  {
   "cell_type": "code",
   "execution_count": 7,
   "id": "d60f5812",
   "metadata": {},
   "outputs": [],
   "source": [
    "system = SystemMessagePromptTemplate.from_template(\n",
    "    \"You are {school} teacher. You answer in short sentences.\"\n",
    ")\n",
    "\n",
    "question = HumanMessagePromptTemplate.from_template(\n",
    "    \"tell me about the {topics} in {points} points\"\n",
    ")"
   ]
  },
  {
   "cell_type": "code",
   "execution_count": 8,
   "id": "15df93b9",
   "metadata": {},
   "outputs": [
    {
     "data": {
      "text/plain": [
       "SystemMessagePromptTemplate(prompt=PromptTemplate(input_variables=['school'], input_types={}, partial_variables={}, template='You are {school} teacher. You answer in short sentences.'), additional_kwargs={})"
      ]
     },
     "execution_count": 8,
     "metadata": {},
     "output_type": "execute_result"
    }
   ],
   "source": [
    "system"
   ]
  },
  {
   "cell_type": "code",
   "execution_count": 9,
   "id": "8b2b5d51",
   "metadata": {},
   "outputs": [
    {
     "data": {
      "text/plain": [
       "HumanMessagePromptTemplate(prompt=PromptTemplate(input_variables=['points', 'topics'], input_types={}, partial_variables={}, template='tell me about the {topics} in {points} points'), additional_kwargs={})"
      ]
     },
     "execution_count": 9,
     "metadata": {},
     "output_type": "execute_result"
    }
   ],
   "source": [
    "question"
   ]
  },
  {
   "cell_type": "code",
   "execution_count": 10,
   "id": "0f26b0fd",
   "metadata": {},
   "outputs": [
    {
     "data": {
      "text/plain": [
       "[HumanMessage(content='tell me about the algebra in 3 points', additional_kwargs={}, response_metadata={})]"
      ]
     },
     "execution_count": 10,
     "metadata": {},
     "output_type": "execute_result"
    }
   ],
   "source": [
    "question.format_messages(school=\"maths\", topics=\"algebra\", points=3)"
   ]
  },
  {
   "cell_type": "code",
   "execution_count": 11,
   "id": "09103401",
   "metadata": {},
   "outputs": [
    {
     "data": {
      "text/plain": [
       "SystemMessage(content='You are science teacher. You answer in short sentences.', additional_kwargs={}, response_metadata={})"
      ]
     },
     "execution_count": 11,
     "metadata": {},
     "output_type": "execute_result"
    }
   ],
   "source": [
    "system.format(school=\"science\")"
   ]
  },
  {
   "cell_type": "code",
   "execution_count": 12,
   "id": "12f5bff7",
   "metadata": {},
   "outputs": [],
   "source": [
    "messages=[system, question]\n",
    "template = ChatPromptTemplate.from_messages(messages)"
   ]
  },
  {
   "cell_type": "code",
   "execution_count": 13,
   "id": "74b6f2dc",
   "metadata": {},
   "outputs": [
    {
     "data": {
      "text/plain": [
       "ChatPromptTemplate(input_variables=['points', 'school', 'topics'], input_types={}, partial_variables={}, messages=[SystemMessagePromptTemplate(prompt=PromptTemplate(input_variables=['school'], input_types={}, partial_variables={}, template='You are {school} teacher. You answer in short sentences.'), additional_kwargs={}), HumanMessagePromptTemplate(prompt=PromptTemplate(input_variables=['points', 'topics'], input_types={}, partial_variables={}, template='tell me about the {topics} in {points} points'), additional_kwargs={})])"
      ]
     },
     "execution_count": 13,
     "metadata": {},
     "output_type": "execute_result"
    }
   ],
   "source": [
    "template"
   ]
  },
  {
   "cell_type": "code",
   "execution_count": 16,
   "id": "76adde18",
   "metadata": {},
   "outputs": [
    {
     "data": {
      "text/plain": [
       "ChatPromptValue(messages=[SystemMessage(content='You are history teacher. You answer in short sentences.', additional_kwargs={}, response_metadata={}), HumanMessage(content='tell me about the world war 2 in 5 points', additional_kwargs={}, response_metadata={})])"
      ]
     },
     "execution_count": 16,
     "metadata": {},
     "output_type": "execute_result"
    }
   ],
   "source": [
    "template.invoke({\"school\": \"history\", \"topics\": \"world war 2\", \"points\": 5})"
   ]
  },
  {
   "cell_type": "code",
   "execution_count": 17,
   "id": "5a3a52ac",
   "metadata": {},
   "outputs": [],
   "source": [
    "question = template.invoke({\"school\": \"history\", \"topics\": \"world war 2\", \"points\": 5})"
   ]
  },
  {
   "cell_type": "code",
   "execution_count": 19,
   "id": "b50a24ab",
   "metadata": {},
   "outputs": [
    {
     "name": "stdout",
     "output_type": "stream",
     "text": [
      "Here are five key points about World War II:\n",
      "\n",
      "1. The war began on September 1, 1939, when Nazi Germany invaded Poland.\n",
      "2. The Axis powers (Germany, Italy, and Japan) fought against the Allied powers (USA, UK, France, etc.) in a global conflict.\n",
      "3. The turning point came in 1944 with the D-Day invasion of Normandy and subsequent Soviet advances on the Eastern Front.\n",
      "4. Atomic bombs were dropped on Hiroshima and Nagasaki by the USA in August 1945, leading to Japan's surrender.\n",
      "5. World War II resulted in an estimated 50-80 million fatalities, making it one of the deadliest conflicts in human history.\n"
     ]
    }
   ],
   "source": [
    "response = llm.invoke(question)\n",
    "print(response.content)"
   ]
  }
 ],
 "metadata": {
  "kernelspec": {
   "display_name": ".venv",
   "language": "python",
   "name": "python3"
  },
  "language_info": {
   "codemirror_mode": {
    "name": "ipython",
    "version": 3
   },
   "file_extension": ".py",
   "mimetype": "text/x-python",
   "name": "python",
   "nbconvert_exporter": "python",
   "pygments_lexer": "ipython3",
   "version": "3.13.5"
  }
 },
 "nbformat": 4,
 "nbformat_minor": 5
}
