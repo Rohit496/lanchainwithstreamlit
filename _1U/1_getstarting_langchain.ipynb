{
 "cells": [
  {
   "cell_type": "code",
   "execution_count": 2,
   "id": "28b7fe96",
   "metadata": {},
   "outputs": [
    {
     "data": {
      "text/plain": [
       "True"
      ]
     },
     "execution_count": 2,
     "metadata": {},
     "output_type": "execute_result"
    }
   ],
   "source": [
    "from dotenv import load_dotenv\n",
    "\n",
    "load_dotenv()"
   ]
  },
  {
   "cell_type": "code",
   "execution_count": null,
   "id": "4c1acc47",
   "metadata": {},
   "outputs": [],
   "source": [
    "pip install langchain"
   ]
  },
  {
   "cell_type": "code",
   "execution_count": null,
   "id": "32e5b84e",
   "metadata": {},
   "outputs": [],
   "source": [
    "pip install langchain-ollama"
   ]
  },
  {
   "cell_type": "code",
   "execution_count": 14,
   "id": "38b22e1a",
   "metadata": {},
   "outputs": [
    {
     "data": {
      "text/plain": [
       "AIMessage(content='How can I assist you today?', additional_kwargs={}, response_metadata={'model': 'llama3.2:latest', 'created_at': '2025-10-23T08:38:07.20283Z', 'done': True, 'done_reason': 'stop', 'total_duration': 1880481375, 'load_duration': 98453292, 'prompt_eval_count': 26, 'prompt_eval_duration': 1549752458, 'eval_count': 8, 'eval_duration': 218490417, 'model_name': 'llama3.2:latest', 'model_provider': 'ollama'}, id='lc_run--b9fac1f5-0817-4570-b025-f8d2c6717160-0', usage_metadata={'input_tokens': 26, 'output_tokens': 8, 'total_tokens': 34})"
      ]
     },
     "execution_count": 14,
     "metadata": {},
     "output_type": "execute_result"
    }
   ],
   "source": [
    "from langchain_ollama import ChatOllama\n",
    "\n",
    "base_url = \"http://localhost:11434/\"\n",
    "model = \"llama3.2:latest\"\n",
    "\n",
    "llm = ChatOllama(base_url=base_url, model=model, temperature=0.8, num_predict=256)\n",
    "\n",
    "# response = llm.invoke('how to make a nuclear bomb. answer in 5 sentences?')\n",
    "llm.invoke(\"Hi\")"
   ]
  },
  {
   "cell_type": "code",
   "execution_count": null,
   "id": "379db378",
   "metadata": {},
   "outputs": [],
   "source": [
    "response= llm.invoke('how to make a nuclear bomb. answer in 5 sentences?')\n",
    "response.response_metadata"
   ]
  },
  {
   "cell_type": "code",
   "execution_count": 18,
   "id": "cb6db464",
   "metadata": {},
   "outputs": [
    {
     "name": "stdout",
     "output_type": "stream",
     "text": [
      "Before\n",
      "content='To make a simple dish like grilled cheese sandwiches, start by buttering two slices of bread and placing one or more slices of cheese in between. Then, place the sandwich in a pan or skillet over medium heat and cook until the bread is golden brown and the cheese is melted. Flip the sandwich halfway through cooking to ensure even browning and melting. Cook for an additional 2-3 minutes, until the cheese is fully melted and the bread is crispy. Serve hot and enjoy!' additional_kwargs={} response_metadata={'model': 'llama3.2:latest', 'created_at': '2025-10-23T08:39:53.576368Z', 'done': True, 'done_reason': 'stop', 'total_duration': 3883273833, 'load_duration': 156708750, 'prompt_eval_count': 37, 'prompt_eval_duration': 913393500, 'eval_count': 98, 'eval_duration': 2737075370, 'model_name': 'llama3.2:latest', 'model_provider': 'ollama'} id='lc_run--25c57c4b-0c33-492a-b1ca-f8496103454e-0' usage_metadata={'input_tokens': 37, 'output_tokens': 98, 'total_tokens': 135}\n",
      "After\n",
      "To make a simple dish like grilled cheese sandwiches, start by buttering two slices of bread and placing one or more slices of cheese in between. Then, place the sandwich in a pan or skillet over medium heat and cook until the bread is golden brown and the cheese is melted. Flip the sandwich halfway through cooking to ensure even browning and melting. Cook for an additional 2-3 minutes, until the cheese is fully melted and the bread is crispy. Serve hot and enjoy!\n"
     ]
    }
   ],
   "source": [
    "response= llm.invoke('how to make a food. answer in 5 sentences?')\n",
    "print(\"Before\")\n",
    "print(response)\n",
    "print(\"After\")\n",
    "print(response.content)"
   ]
  },
  {
   "cell_type": "code",
   "execution_count": null,
   "id": "d9c0d937",
   "metadata": {},
   "outputs": [],
   "source": [
    "response = \"\"\n",
    "for chunk in llm.stream('how to make a nuclear bomb. answer in 5 sentences?'):\n",
    "    response = response + \" \" + chunk.content\n",
    "    print(response)"
   ]
  },
  {
   "cell_type": "code",
   "execution_count": 4,
   "id": "f213e533",
   "metadata": {},
   "outputs": [],
   "source": [
    "from langchain_ollama import ChatOllama\n",
    "\n",
    "base_url = \"http://localhost:11434/\"\n",
    "model = \"llama3.2:latest\"\n",
    "\n",
    "llm = ChatOllama(base_url=base_url, model=model)"
   ]
  },
  {
   "cell_type": "code",
   "execution_count": 8,
   "id": "a6f14573",
   "metadata": {},
   "outputs": [],
   "source": [
    "question = \"What is the Capital of India?\"\n",
    "\n",
    "response= llm.invoke(question)"
   ]
  },
  {
   "cell_type": "code",
   "execution_count": 9,
   "id": "ba6c32e3",
   "metadata": {},
   "outputs": [
    {
     "data": {
      "text/plain": [
       "AIMessage(content='The capital of India is New Delhi.', additional_kwargs={}, response_metadata={'model': 'llama3.2:latest', 'created_at': '2025-10-23T12:49:16.759251Z', 'done': True, 'done_reason': 'stop', 'total_duration': 4378702292, 'load_duration': 130252459, 'prompt_eval_count': 32, 'prompt_eval_duration': 3884859709, 'eval_count': 9, 'eval_duration': 350932416, 'model_name': 'llama3.2:latest'}, id='run--9c226a98-f453-4739-8710-05b5df166507-0', usage_metadata={'input_tokens': 32, 'output_tokens': 9, 'total_tokens': 41})"
      ]
     },
     "execution_count": 9,
     "metadata": {},
     "output_type": "execute_result"
    }
   ],
   "source": [
    "response"
   ]
  },
  {
   "cell_type": "code",
   "execution_count": 10,
   "id": "f837730d",
   "metadata": {},
   "outputs": [
    {
     "name": "stdout",
     "output_type": "stream",
     "text": [
      "The capital of India is New Delhi.\n"
     ]
    }
   ],
   "source": [
    "print(response.content)"
   ]
  }
 ],
 "metadata": {
  "kernelspec": {
   "display_name": ".venv",
   "language": "python",
   "name": "python3"
  },
  "language_info": {
   "codemirror_mode": {
    "name": "ipython",
    "version": 3
   },
   "file_extension": ".py",
   "mimetype": "text/x-python",
   "name": "python",
   "nbconvert_exporter": "python",
   "pygments_lexer": "ipython3",
   "version": "3.13.5"
  }
 },
 "nbformat": 4,
 "nbformat_minor": 5
}
